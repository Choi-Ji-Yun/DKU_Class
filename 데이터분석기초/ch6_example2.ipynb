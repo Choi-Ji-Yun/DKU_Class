{
 "cells": [
  {
   "cell_type": "markdown",
   "metadata": {},
   "source": [
    "# sum"
   ]
  },
  {
   "cell_type": "code",
   "execution_count": 6,
   "metadata": {},
   "outputs": [
    {
     "name": "stdout",
     "output_type": "stream",
     "text": [
      "15\n"
     ]
    }
   ],
   "source": [
    "sum = 0\n",
    "\n",
    "sum = sum +1\n",
    "sum = sum +2\n",
    "sum = sum +3\n",
    "sum = sum +4\n",
    "sum = sum +5\n",
    "\n",
    "print(sum)"
   ]
  },
  {
   "cell_type": "code",
   "execution_count": 7,
   "metadata": {},
   "outputs": [
    {
     "name": "stdout",
     "output_type": "stream",
     "text": [
      "55\n"
     ]
    }
   ],
   "source": [
    "sum = 0\n",
    "\n",
    "for i in range(1,11,1):\n",
    "    sum = sum + i\n",
    "    \n",
    "print(sum)"
   ]
  },
  {
   "cell_type": "code",
   "execution_count": 8,
   "metadata": {},
   "outputs": [
    {
     "name": "stdout",
     "output_type": "stream",
     "text": [
      "끝값: 10\n",
      "55\n"
     ]
    }
   ],
   "source": [
    "sum = 0\n",
    "num = int(input(\"끝값: \"))\n",
    "\n",
    "for i in range(1,num+1,1):\n",
    "    sum = sum + i\n",
    "    \n",
    "print(sum)"
   ]
  },
  {
   "cell_type": "code",
   "execution_count": 9,
   "metadata": {},
   "outputs": [
    {
     "name": "stdout",
     "output_type": "stream",
     "text": [
      "시작값: 1\n",
      "끝값: 10\n",
      "증가값: 1\n",
      "55\n"
     ]
    }
   ],
   "source": [
    "sum = 0\n",
    "start = int(input(\"시작값: \"))\n",
    "end = int(input(\"끝값: \"))\n",
    "plus = int(input(\"증가값: \"))\n",
    "\n",
    "for i in range(start,end+1,plus):\n",
    "    sum = sum + i\n",
    "    \n",
    "print(sum)"
   ]
  },
  {
   "cell_type": "markdown",
   "metadata": {},
   "source": [
    "# 구구단"
   ]
  },
  {
   "cell_type": "code",
   "execution_count": 5,
   "metadata": {},
   "outputs": [
    {
     "name": "stdout",
     "output_type": "stream",
     "text": [
      "몇 단: 4\n",
      "##  4단 ##\n",
      " 4X 1= 4\n",
      " 4X 2= 8\n",
      " 4X 3=12\n",
      " 4X 4=16\n",
      " 4X 5=20\n",
      " 4X 6=24\n",
      " 4X 7=28\n",
      " 4X 8=32\n",
      " 4X 9=36\n"
     ]
    }
   ],
   "source": [
    "dan = int(input(\"몇 단: \"))\n",
    "print(\"## %2d단 ##\" %dan)\n",
    "for i in range(1,10,1):\n",
    "    print(\"%2dX%2d=%2d\" %(dan,i,dan*i))"
   ]
  },
  {
   "cell_type": "code",
   "execution_count": 3,
   "metadata": {},
   "outputs": [
    {
     "name": "stdout",
     "output_type": "stream",
     "text": [
      "## 2단##\n",
      " 2X 1= 2\n",
      " 2X 2= 4\n",
      " 2X 3= 6\n",
      " 2X 4= 8\n",
      " 2X 5=10\n",
      " 2X 6=12\n",
      " 2X 7=14\n",
      " 2X 8=16\n",
      " 2X 9=18\n",
      "## 3단##\n",
      " 3X 1= 3\n",
      " 3X 2= 6\n",
      " 3X 3= 9\n",
      " 3X 4=12\n",
      " 3X 5=15\n",
      " 3X 6=18\n",
      " 3X 7=21\n",
      " 3X 8=24\n",
      " 3X 9=27\n",
      "## 4단##\n",
      " 4X 1= 4\n",
      " 4X 2= 8\n",
      " 4X 3=12\n",
      " 4X 4=16\n",
      " 4X 5=20\n",
      " 4X 6=24\n",
      " 4X 7=28\n",
      " 4X 8=32\n",
      " 4X 9=36\n",
      "## 5단##\n",
      " 5X 1= 5\n",
      " 5X 2=10\n",
      " 5X 3=15\n",
      " 5X 4=20\n",
      " 5X 5=25\n",
      " 5X 6=30\n",
      " 5X 7=35\n",
      " 5X 8=40\n",
      " 5X 9=45\n",
      "## 6단##\n",
      " 6X 1= 6\n",
      " 6X 2=12\n",
      " 6X 3=18\n",
      " 6X 4=24\n",
      " 6X 5=30\n",
      " 6X 6=36\n",
      " 6X 7=42\n",
      " 6X 8=48\n",
      " 6X 9=54\n",
      "## 7단##\n",
      " 7X 1= 7\n",
      " 7X 2=14\n",
      " 7X 3=21\n",
      " 7X 4=28\n",
      " 7X 5=35\n",
      " 7X 6=42\n",
      " 7X 7=49\n",
      " 7X 8=56\n",
      " 7X 9=63\n",
      "## 8단##\n",
      " 8X 1= 8\n",
      " 8X 2=16\n",
      " 8X 3=24\n",
      " 8X 4=32\n",
      " 8X 5=40\n",
      " 8X 6=48\n",
      " 8X 7=56\n",
      " 8X 8=64\n",
      " 8X 9=72\n",
      "## 9단##\n",
      " 9X 1= 9\n",
      " 9X 2=18\n",
      " 9X 3=27\n",
      " 9X 4=36\n",
      " 9X 5=45\n",
      " 9X 6=54\n",
      " 9X 7=63\n",
      " 9X 8=72\n",
      " 9X 9=81\n",
      "##10단##\n",
      "10X 1=10\n",
      "10X 2=20\n",
      "10X 3=30\n",
      "10X 4=40\n",
      "10X 5=50\n",
      "10X 6=60\n",
      "10X 7=70\n",
      "10X 8=80\n",
      "10X 9=90\n",
      "##11단##\n",
      "11X 1=11\n",
      "11X 2=22\n",
      "11X 3=33\n",
      "11X 4=44\n",
      "11X 5=55\n",
      "11X 6=66\n",
      "11X 7=77\n",
      "11X 8=88\n",
      "11X 9=99\n",
      "##12단##\n",
      "12X 1=12\n",
      "12X 2=24\n",
      "12X 3=36\n",
      "12X 4=48\n",
      "12X 5=60\n",
      "12X 6=72\n",
      "12X 7=84\n",
      "12X 8=96\n",
      "12X 9=108\n",
      "##13단##\n",
      "13X 1=13\n",
      "13X 2=26\n",
      "13X 3=39\n",
      "13X 4=52\n",
      "13X 5=65\n",
      "13X 6=78\n",
      "13X 7=91\n",
      "13X 8=104\n",
      "13X 9=117\n",
      "##14단##\n",
      "14X 1=14\n",
      "14X 2=28\n",
      "14X 3=42\n",
      "14X 4=56\n",
      "14X 5=70\n",
      "14X 6=84\n",
      "14X 7=98\n",
      "14X 8=112\n",
      "14X 9=126\n",
      "##15단##\n",
      "15X 1=15\n",
      "15X 2=30\n",
      "15X 3=45\n",
      "15X 4=60\n",
      "15X 5=75\n",
      "15X 6=90\n",
      "15X 7=105\n",
      "15X 8=120\n",
      "15X 9=135\n",
      "##16단##\n",
      "16X 1=16\n",
      "16X 2=32\n",
      "16X 3=48\n",
      "16X 4=64\n",
      "16X 5=80\n",
      "16X 6=96\n",
      "16X 7=112\n",
      "16X 8=128\n",
      "16X 9=144\n",
      "##17단##\n",
      "17X 1=17\n",
      "17X 2=34\n",
      "17X 3=51\n",
      "17X 4=68\n",
      "17X 5=85\n",
      "17X 6=102\n",
      "17X 7=119\n",
      "17X 8=136\n",
      "17X 9=153\n",
      "##18단##\n",
      "18X 1=18\n",
      "18X 2=36\n",
      "18X 3=54\n",
      "18X 4=72\n",
      "18X 5=90\n",
      "18X 6=108\n",
      "18X 7=126\n",
      "18X 8=144\n",
      "18X 9=162\n"
     ]
    }
   ],
   "source": [
    "for dan in range(2,19,1):\n",
    "    print(\"##%2d단##\" %dan)\n",
    "    for i in range(1,10,1):\n",
    "        print(\"%2dX%2d=%2d\" %(dan,i,dan*i))"
   ]
  },
  {
   "cell_type": "code",
   "execution_count": 2,
   "metadata": {},
   "outputs": [
    {
     "name": "stdout",
     "output_type": "stream",
     "text": [
      "## 2단#### 3단#### 4단#### 5단#### 6단#### 7단#### 8단#### 9단##\n",
      " 2X 1= 2 3X 1= 3 4X 1= 4 5X 1= 5 6X 1= 6 7X 1= 7 8X 1= 8 9X 1= 9\n",
      " 2X 2= 4 3X 2= 6 4X 2= 8 5X 2=10 6X 2=12 7X 2=14 8X 2=16 9X 2=18\n",
      " 2X 3= 6 3X 3= 9 4X 3=12 5X 3=15 6X 3=18 7X 3=21 8X 3=24 9X 3=27\n",
      " 2X 4= 8 3X 4=12 4X 4=16 5X 4=20 6X 4=24 7X 4=28 8X 4=32 9X 4=36\n",
      " 2X 5=10 3X 5=15 4X 5=20 5X 5=25 6X 5=30 7X 5=35 8X 5=40 9X 5=45\n",
      " 2X 6=12 3X 6=18 4X 6=24 5X 6=30 6X 6=36 7X 6=42 8X 6=48 9X 6=54\n",
      " 2X 7=14 3X 7=21 4X 7=28 5X 7=35 6X 7=42 7X 7=49 8X 7=56 9X 7=63\n",
      " 2X 8=16 3X 8=24 4X 8=32 5X 8=40 6X 8=48 7X 8=56 8X 8=64 9X 8=72\n",
      " 2X 9=18 3X 9=27 4X 9=36 5X 9=45 6X 9=54 7X 9=63 8X 9=72 9X 9=81\n"
     ]
    }
   ],
   "source": [
    "for dan in range(2,10,1):\n",
    "    print(\"##%2d단##\" %dan, end=\"\")\n",
    "print()\n",
    "for i in range(1,10,1):\n",
    "    for dan in range(2,10,1):\n",
    "        print(\"%2dX%2d=%2d\" %(dan,i,dan*i), end=\"\")\n",
    "    print()"
   ]
  }
 ],
 "metadata": {
  "kernelspec": {
   "display_name": "Python 3",
   "language": "python",
   "name": "python3"
  },
  "language_info": {
   "codemirror_mode": {
    "name": "ipython",
    "version": 3
   },
   "file_extension": ".py",
   "mimetype": "text/x-python",
   "name": "python",
   "nbconvert_exporter": "python",
   "pygments_lexer": "ipython3",
   "version": "3.8.3"
  }
 },
 "nbformat": 4,
 "nbformat_minor": 4
}
