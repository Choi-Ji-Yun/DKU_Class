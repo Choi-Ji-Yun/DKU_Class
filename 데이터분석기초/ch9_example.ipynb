{
 "cells": [
  {
   "cell_type": "code",
   "execution_count": 2,
   "metadata": {},
   "outputs": [
    {
     "name": "stdout",
     "output_type": "stream",
     "text": [
      "100과 200의 plus() 함수 결과는 300\n"
     ]
    }
   ],
   "source": [
    "def plus(v1, v2):\n",
    "    result = 0\n",
    "    result = v1 + v2\n",
    "    return result\n",
    "\n",
    "hap = 0\n",
    "hap = plus(100, 200)\n",
    "\n",
    "print(\"100과 200의 plus() 함수 결과는 %d\" %hap)"
   ]
  },
  {
   "cell_type": "code",
   "execution_count": 4,
   "metadata": {},
   "outputs": [
    {
     "name": "stdout",
     "output_type": "stream",
     "text": [
      "100과 200의 plus() 함수 결과는 300\n"
     ]
    }
   ],
   "source": [
    "def plus(num1, num2):\n",
    "    return num1 + num2\n",
    "\n",
    "hap = plus(100, 200)\n",
    "print(\"100과 200의 plus() 함수 결과는 %d\" %hap)"
   ]
  },
  {
   "cell_type": "code",
   "execution_count": 9,
   "metadata": {},
   "outputs": [
    {
     "name": "stdout",
     "output_type": "stream",
     "text": [
      "첫 번째 수를 입력하세요: 10\n",
      "계산을 입력하세요(+, -, *, **, /): /\n",
      "두 번째 수를 입력하세요: 0\n",
      "0으로 나눌 수 없습니다.\n"
     ]
    }
   ],
   "source": [
    "def calc(v1, v2, op):\n",
    "    if oper == \"+\":\n",
    "        result = var1 + var2\n",
    "    elif oper == \"-\":\n",
    "        result = var1 - var2\n",
    "    elif oper == \"*\":\n",
    "        result = var1 * var2\n",
    "    elif oper == \"**\":\n",
    "        result = var1 ** var2\n",
    "    elif oper == \"/\":\n",
    "        if v2 == 0:\n",
    "            result = \"0으로 나눌 수 없습니다.\"\n",
    "        else:\n",
    "            result = var1 / var2\n",
    "    else:\n",
    "        result = \"연산자가 잘못되었습니다.\"\n",
    "        \n",
    "    return result\n",
    "\n",
    "res = 0\n",
    "var1, var2, oper = 0, 0, \"\"\n",
    "\n",
    "var1 = int(input(\"첫 번째 수를 입력하세요: \"))\n",
    "oper = input(\"계산을 입력하세요(+, -, *, **, /): \")\n",
    "var2 = int(input(\"두 번째 수를 입력하세요: \"))\n",
    "\n",
    "res = calc(var1, var2, oper)\n",
    "\n",
    "if(str(type(res)) == \"<class 'str'>\"):\n",
    "    print(res)\n",
    "else:\n",
    "    print(\"##계산기 : %d %s %d = %d\" %(var1, oper, var2, res))"
   ]
  },
  {
   "cell_type": "code",
   "execution_count": 12,
   "metadata": {},
   "outputs": [
    {
     "name": "stdout",
     "output_type": "stream",
     "text": [
      "함수 실행 전 : 메인 코드 부분의 a의 값 : 20, a의 id : 140727394122112\n",
      "func1에서 a값 10, a의 id : 140727394121792\n",
      "func1() 실행 후 : 메인 코드 부분의 a의 값 : 10, a의 id : 140727394121792\n",
      "func2에서 a값 10, a의 id : 140727394121792\n",
      "func2() 실행 전 : 메인 코드 부분의 a의 값 : 10, a의 id : 140727394121792\n"
     ]
    }
   ],
   "source": [
    "def func1():\n",
    "    global a\n",
    "    a = 10\n",
    "    print(\"func1에서 a값 %d, a의 id : %d\" %(a,id(a)))\n",
    "\n",
    "def func2():\n",
    "    print(\"func2에서 a값 %d, a의 id : %d\" %(a,id(a)))\n",
    "\n",
    "a = 20\n",
    "\n",
    "print(\"함수 실행 전 : 메인 코드 부분의 a의 값 : %d, a의 id : %d\" %(a, id(a)))\n",
    "func1()\n",
    "print(\"func1() 실행 후 : 메인 코드 부분의 a의 값 : %d, a의 id : %d\" %(a, id(a)))\n",
    "func2()\n",
    "print(\"func2() 실행 전 : 메인 코드 부분의 a의 값 : %d, a의 id : %d\" %(a, id(a)))"
   ]
  },
  {
   "cell_type": "code",
   "execution_count": null,
   "metadata": {},
   "outputs": [],
   "source": []
  }
 ],
 "metadata": {
  "kernelspec": {
   "display_name": "Python 3",
   "language": "python",
   "name": "python3"
  },
  "language_info": {
   "codemirror_mode": {
    "name": "ipython",
    "version": 3
   },
   "file_extension": ".py",
   "mimetype": "text/x-python",
   "name": "python",
   "nbconvert_exporter": "python",
   "pygments_lexer": "ipython3",
   "version": "3.8.3"
  }
 },
 "nbformat": 4,
 "nbformat_minor": 4
}
